{
 "cells": [
  {
   "cell_type": "markdown",
   "id": "d05b7b45-56fa-46ce-a2d3-b12ae60df94a",
   "metadata": {},
   "source": [
    "# send 和sync"
   ]
  },
  {
   "cell_type": "markdown",
   "id": "522389c2-798c-48b1-8a73-5999eaedce1f",
   "metadata": {},
   "source": [
    "## send"
   ]
  },
  {
   "cell_type": "markdown",
   "id": "98fae992-3147-4581-8f26-b17c7b486c89",
   "metadata": {},
   "source": [
    "- 所有权可以在线程之间转移\n",
    "- 几乎所有的Rust类型都是Send\n",
    "- Rc不是"
   ]
  },
  {
   "cell_type": "markdown",
   "id": "98cedea8-72c8-4a05-bc8a-d4feae7f63a4",
   "metadata": {},
   "source": [
    "## sync"
   ]
  },
  {
   "cell_type": "markdown",
   "id": "4dbd4dfd-07bc-4234-a4b3-410e6289228e",
   "metadata": {},
   "source": [
    "可以安全地从多个线程引用实现改trait的类型"
   ]
  },
  {
   "cell_type": "markdown",
   "id": "2272d3f8-4fc6-4ca1-862f-02bdea2647c2",
   "metadata": {},
   "source": [
    "如果将一个类型发送到另一个线程是安全的，那么它就是Send"
   ]
  },
  {
   "cell_type": "markdown",
   "id": "11e0e4c9-cd36-4ca9-a777-3638024a5c08",
   "metadata": {},
   "source": [
    "如果一个类型可以安全地在线程间共享，那么它就是 Sync"
   ]
  },
  {
   "cell_type": "code",
   "execution_count": null,
   "id": "67c0aaf3-a9ac-499f-82b6-33af43ebbdde",
   "metadata": {},
   "outputs": [],
   "source": []
  },
  {
   "cell_type": "code",
   "execution_count": null,
   "id": "3eacab66-5b18-48f4-9a2b-8dfd5f1d5546",
   "metadata": {},
   "outputs": [],
   "source": []
  },
  {
   "cell_type": "code",
   "execution_count": null,
   "id": "9f42bb04-55c8-4094-a8e0-f08d86a8bf79",
   "metadata": {},
   "outputs": [],
   "source": []
  }
 ],
 "metadata": {
  "kernelspec": {
   "display_name": "Rust",
   "language": "rust",
   "name": "rust"
  },
  "language_info": {
   "codemirror_mode": "rust",
   "file_extension": ".rs",
   "mimetype": "text/rust",
   "name": "Rust",
   "pygment_lexer": "rust",
   "version": ""
  }
 },
 "nbformat": 4,
 "nbformat_minor": 5
}
