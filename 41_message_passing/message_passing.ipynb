{
 "cells": [
  {
   "cell_type": "markdown",
   "id": "555f55a9-0344-4991-86ec-793b151b38bf",
   "metadata": {},
   "source": [
    "# 消息传递 message passing"
   ]
  },
  {
   "cell_type": "markdown",
   "id": "5bfc3ef2-3ba5-4292-98cf-e54482920b8a",
   "metadata": {},
   "source": [
    "使用channel来实现消息传递"
   ]
  },
  {
   "cell_type": "markdown",
   "id": "2f0fa08b-5fed-4f68-a01b-69ee6ec7158a",
   "metadata": {},
   "source": [
    "## channel "
   ]
  },
  {
   "cell_type": "markdown",
   "id": "aa836ade-ff5c-40ac-bde7-fdcb3be869c8",
   "metadata": {},
   "source": [
    "用于在不同线程之间发送数据  \n",
    "- 两个核心部分 发送端和接收端\n",
    "- 当通道任何一端被丢弃，关闭"
   ]
  },
  {
   "cell_type": "code",
   "execution_count": 7,
   "id": "2f58eb7a-80df-4776-aad0-3cab668ede09",
   "metadata": {},
   "outputs": [],
   "source": [
    "use std::sync::mpsc;\n",
    "// 创建通道\n",
    "use std::thread;"
   ]
  },
  {
   "cell_type": "markdown",
   "id": "24ab1c68-5aea-4d45-a001-0cbb3cc17d82",
   "metadata": {},
   "source": [
    "mpsc 是multiple producer single consumer的缩写  \n",
    "有多个发送者，只能有一个接收者"
   ]
  },
  {
   "cell_type": "markdown",
   "id": "9744ea79-7c64-4bc3-8ead-85bdd8b1e3d8",
   "metadata": {},
   "source": [
    "// 创建通道  \n",
    "mpsc::channel()  \n",
    "返回一个tuple  \n",
    "第一个元素是发送端  \n",
    "第二个元素是接受端"
   ]
  },
  {
   "cell_type": "markdown",
   "id": "e573d83f-7a5b-40db-996f-a383b6460ce4",
   "metadata": {},
   "source": [
    "## 发送数据"
   ]
  },
  {
   "cell_type": "markdown",
   "id": "0d243226-bc1e-49e3-b4dd-ba1565c6dc61",
   "metadata": {},
   "source": [
    "使用send发送数据  \n",
    "返回Rsult  \n",
    "如果接收端丢弃，send就会返回一个错误  "
   ]
  },
  {
   "cell_type": "code",
   "execution_count": 11,
   "id": "ba6530f4-dac5-4a02-a6bb-029f979bed98",
   "metadata": {},
   "outputs": [
    {
     "name": "stdout",
     "output_type": "stream",
     "text": [
      "Got: good\n"
     ]
    },
    {
     "data": {
      "text/plain": [
       "()"
      ]
     },
     "execution_count": 11,
     "metadata": {},
     "output_type": "execute_result"
    }
   ],
   "source": [
    "fn main(){\n",
    "    let (tx,rx)=mpsc::channel();\n",
    "    thread::spawn(move ||{\n",
    "        let val=String::from(\"good\");\n",
    "        tx.send(val).unwrap()\n",
    "    });\n",
    "    let received=rx.recv().unwrap();\n",
    "    println!(\"Got: {received}\");\n",
    "\n",
    "}\n",
    "main()"
   ]
  },
  {
   "cell_type": "markdown",
   "id": "48db8783-9c27-461d-bd34-d1143d1bd53d",
   "metadata": {},
   "source": [
    "## 接受数据"
   ]
  },
  {
   "cell_type": "markdown",
   "id": "c6cbf9c5-c504-4f3d-8157-78d2d859593a",
   "metadata": {},
   "source": [
    "在接受端，主要有两种方法来接受数据recv和try_recv"
   ]
  },
  {
   "cell_type": "markdown",
   "id": "714b5b46-013f-49ce-8419-47caa51f9973",
   "metadata": {},
   "source": [
    "recv会阻塞当前线程，直到收到一个值"
   ]
  },
  {
   "cell_type": "markdown",
   "id": "2d8c6d70-58d5-49f3-b719-5d63386105ca",
   "metadata": {},
   "source": [
    "try_recv不会阻塞，则会立即返回一个Result"
   ]
  },
  {
   "cell_type": "code",
   "execution_count": 16,
   "id": "bf367ad1-8fcb-462e-9fcb-30ced6deeffa",
   "metadata": {},
   "outputs": [],
   "source": [
    "use std::time::Duration;"
   ]
  },
  {
   "cell_type": "code",
   "execution_count": 17,
   "id": "460c1c95-cd89-457f-84d8-2a0ace80f0aa",
   "metadata": {},
   "outputs": [
    {
     "name": "stdout",
     "output_type": "stream",
     "text": [
      "Waiting for data...\n",
      "Got: good\n"
     ]
    },
    {
     "data": {
      "text/plain": [
       "()"
      ]
     },
     "execution_count": 17,
     "metadata": {},
     "output_type": "execute_result"
    }
   ],
   "source": [
    "fn main(){\n",
    "    let (tx,rx)=mpsc::channel();\n",
    "    thread::spawn(move ||{\n",
    "        let val=String::from(\"good\");\n",
    "        tx.send(val).unwrap()\n",
    "    });\n",
    "    loop {\n",
    "        match rx.try_recv() {\n",
    "            Ok(received) => {\n",
    "                println!(\"Got: {}\", received);\n",
    "                break;\n",
    "            }\n",
    "            Err(mpsc::TryRecvError::Empty) => {\n",
    "                println!(\"Waiting for data...\");\n",
    "                thread::sleep(Duration::from_millis(100)); // 避免忙等待\n",
    "            }\n",
    "            Err(mpsc::TryRecvError::Disconnected) => {\n",
    "                println!(\"Sender disconnected!\");\n",
    "                break;\n",
    "            }\n",
    "        }\n",
    "    }\n",
    "\n",
    "}\n",
    "main()"
   ]
  },
  {
   "cell_type": "code",
   "execution_count": 26,
   "id": "41b60c28-ac75-4d22-9b82-9195ec3f61fa",
   "metadata": {},
   "outputs": [
    {
     "name": "stdout",
     "output_type": "stream",
     "text": [
      "Waiting for data...\n",
      "Got: asdas\n",
      "Got: gg\n"
     ]
    },
    {
     "data": {
      "text/plain": [
       "()"
      ]
     },
     "execution_count": 26,
     "metadata": {},
     "output_type": "execute_result"
    }
   ],
   "source": [
    "fn main(){\n",
    "    let (tx,rx)=mpsc::channel();\n",
    "    thread::spawn(move ||{\n",
    "        let val=vec![\n",
    "            String::from(\"asdas\"),\n",
    "            String::from(\"gg\")\n",
    "        ];\n",
    "        tx.send(val).unwrap()\n",
    "    });\n",
    "    loop {\n",
    "        match rx.try_recv() {\n",
    "            Ok(received) => {\n",
    "                for val in received{\n",
    "                    println!(\"Got: {}\", val);\n",
    "                    \n",
    "                }\n",
    "                break;\n",
    "            }\n",
    "            Err(mpsc::TryRecvError::Empty) => {\n",
    "                println!(\"Waiting for data...\");\n",
    "                thread::sleep(Duration::from_millis(100)); // 避免忙等待\n",
    "            }\n",
    "            Err(mpsc::TryRecvError::Disconnected) => {\n",
    "                println!(\"Sender disconnected!\");\n",
    "                break;\n",
    "            }\n",
    "        }\n",
    "    }\n",
    "\n",
    "}\n",
    "main()"
   ]
  },
  {
   "cell_type": "markdown",
   "id": "a7502db6-b73e-45a5-9d56-a89daf2565ce",
   "metadata": {},
   "source": [
    "| [上一页：线程](../40_thread/40_thread.md)|||"
   ]
  },
  {
   "cell_type": "code",
   "execution_count": null,
   "id": "57ee22c4-c5ab-49fc-a63b-5067a0fa3c85",
   "metadata": {},
   "outputs": [],
   "source": []
  },
  {
   "cell_type": "code",
   "execution_count": null,
   "id": "52da0d28-c44b-4bcd-87de-7c78ba205fb9",
   "metadata": {},
   "outputs": [],
   "source": []
  },
  {
   "cell_type": "code",
   "execution_count": null,
   "id": "0225a148-42c3-41e1-81cc-38084763baf3",
   "metadata": {},
   "outputs": [],
   "source": []
  },
  {
   "cell_type": "code",
   "execution_count": null,
   "id": "9fc6be8a-b1cc-4a52-aa6e-bd0892aa60a5",
   "metadata": {},
   "outputs": [],
   "source": []
  }
 ],
 "metadata": {
  "kernelspec": {
   "display_name": "Rust",
   "language": "rust",
   "name": "rust"
  },
  "language_info": {
   "codemirror_mode": "rust",
   "file_extension": ".rs",
   "mimetype": "text/rust",
   "name": "Rust",
   "pygment_lexer": "rust",
   "version": ""
  }
 },
 "nbformat": 4,
 "nbformat_minor": 5
}
