{
 "cells": [
  {
   "cell_type": "markdown",
   "id": "67bc8b74-755d-43cc-b982-9c27fffaadf7",
   "metadata": {},
   "source": [
    "# Future"
   ]
  },
  {
   "cell_type": "markdown",
   "id": "2c9e8d9b-2c47-43cf-9bf7-a967124f372e",
   "metadata": {},
   "source": [
    "**Future就是使用了Future trait 的类型**"
   ]
  },
  {
   "cell_type": "markdown",
   "id": "5c156744-e32c-4a6e-972c-54855c09d9f0",
   "metadata": {},
   "source": [
    "# async"
   ]
  },
  {
   "cell_type": "markdown",
   "id": "96bf461c-3f5c-4587-9601-4d01a5709d0b",
   "metadata": {},
   "source": [
    "**用于代码块或函数、来表示可被终端和恢复**"
   ]
  },
  {
   "cell_type": "markdown",
   "id": "6fbdb66f-34bc-48a6-b1b8-6319fc2f92e0",
   "metadata": {},
   "source": [
    "# await"
   ]
  },
  {
   "cell_type": "markdown",
   "id": "7c498ca2-a55b-49f9-964d-ab9600debd60",
   "metadata": {},
   "source": [
    "**等待Future就绪**"
   ]
  },
  {
   "cell_type": "markdown",
   "id": "cd2cd104-48b3-4a41-912f-282ca124616c",
   "metadata": {},
   "source": [
    "# trpl"
   ]
  },
  {
   "cell_type": "markdown",
   "id": "d8dd1380-d835-4b81-a238-ceff0fd142a8",
   "metadata": {},
   "source": [
    "**整合futures和tokio的核心功能**  \n",
    "The Rust Programming Language"
   ]
  },
  {
   "cell_type": "code",
   "execution_count": null,
   "id": "b4cde83b-4dbc-4752-8678-1967d0ef16e8",
   "metadata": {},
   "outputs": [],
   "source": []
  },
  {
   "cell_type": "code",
   "execution_count": null,
   "id": "9d7166c5-c81f-4944-8b87-787aa3954b69",
   "metadata": {},
   "outputs": [],
   "source": []
  },
  {
   "cell_type": "code",
   "execution_count": null,
   "id": "f69750f4-9aab-4868-a76b-46ca94e7950b",
   "metadata": {},
   "outputs": [],
   "source": []
  },
  {
   "cell_type": "code",
   "execution_count": null,
   "id": "a1d842e5-1868-424e-8d50-093910b2f297",
   "metadata": {},
   "outputs": [],
   "source": []
  }
 ],
 "metadata": {
  "kernelspec": {
   "display_name": "Rust",
   "language": "rust",
   "name": "rust"
  },
  "language_info": {
   "codemirror_mode": "rust",
   "file_extension": ".rs",
   "mimetype": "text/rust",
   "name": "Rust",
   "pygment_lexer": "rust",
   "version": ""
  }
 },
 "nbformat": 4,
 "nbformat_minor": 5
}
