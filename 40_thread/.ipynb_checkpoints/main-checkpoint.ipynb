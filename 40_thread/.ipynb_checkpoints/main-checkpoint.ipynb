{
 "cells": [
  {
   "cell_type": "markdown",
   "id": "669a51e3-8b75-4478-a56d-51d0b3da7a9d",
   "metadata": {},
   "source": [
    "# 使用多线程同时运行代码"
   ]
  },
  {
   "cell_type": "markdown",
   "id": "e9363c36-6610-4022-8049-17b40bffb246",
   "metadata": {},
   "source": [
    "## 使用thread::spawn创建新线程"
   ]
  },
  {
   "cell_type": "markdown",
   "id": "f54a50f9-ba73-4917-a051-c80f6a4bd9e6",
   "metadata": {},
   "source": [
    "其参数为一个闭包"
   ]
  },
  {
   "cell_type": "code",
   "execution_count": 2,
   "id": "fc0090c5-a57a-4a41-bc20-8948015b9f60",
   "metadata": {},
   "outputs": [],
   "source": [
    "use std::thread;\n",
    "use std::time::Duration"
   ]
  },
  {
   "cell_type": "code",
   "execution_count": 17,
   "id": "1efba499-952a-459d-ba5c-ed4f938fae79",
   "metadata": {},
   "outputs": [
    {
     "name": "stdout",
     "output_type": "stream",
     "text": [
      "hi number 1 from the main thread\n",
      "hi number 1 from the spawned thread\n",
      "hi number 2 from the main thread\n",
      "hi number 2 from the spawned thread\n",
      "hi number 3 from the main thread\n",
      "hi number 3 from the spawned thread\n",
      "hi number 4 from the main thread\n",
      "hi number 4 from the spawned thread\n"
     ]
    },
    {
     "data": {
      "text/plain": [
       "()"
      ]
     },
     "execution_count": 17,
     "metadata": {},
     "output_type": "execute_result"
    }
   ],
   "source": [
    "fn main(){\n",
    "    // 子线程\n",
    "    thread::spawn(||{\n",
    "        for j in 1..10{\n",
    "            println!(\"hi number {j} from the spawned thread\");\n",
    "            thread::sleep(Duration::from_millis(1));\n",
    "        }\n",
    "    });\n",
    "    for i in 1..5{\n",
    "        println!(\"hi number {i} from the main.rs thread\");\n",
    "        thread::sleep(Duration::from_millis(1));\n",
    "    }\n",
    "}\n",
    "main()"
   ]
  },
  {
   "cell_type": "markdown",
   "id": "7f7ce840-dda4-4268-bed9-5fae85dd6eac",
   "metadata": {},
   "source": [
    "主线程完成后，子线程关闭"
   ]
  },
  {
   "cell_type": "markdown",
   "id": "eba34f64-d6f2-4cfe-8750-36b4b0674eba",
   "metadata": {},
   "source": [
    "顺序不确定"
   ]
  },
  {
   "cell_type": "markdown",
   "id": "982556ee-cd40-410d-adf9-44ec85644ffa",
   "metadata": {},
   "source": [
    "## 使用join Handler 等待所有线程完成"
   ]
  },
  {
   "cell_type": "markdown",
   "id": "fbcb2b40-12e3-44b7-921c-02fb7983155b",
   "metadata": {},
   "source": [
    "thread::spawn的返回类型是JoinHandle  \n",
    "调用器join方法，就会等待线程完成"
   ]
  },
  {
   "cell_type": "code",
   "execution_count": 16,
   "id": "7091c829-5d11-4226-9e67-ec5da1d07901",
   "metadata": {},
   "outputs": [
    {
     "name": "stdout",
     "output_type": "stream",
     "text": [
      "hi number 1 from the main thread\n",
      "hi number 1 from the spawned thread\n",
      "hi number 2 from the main thread\n",
      "hi number 2 from the spawned thread\n",
      "hi number 3 from the main thread\n",
      "hi number 3 from the spawned thread\n",
      "hi number 4 from the main thread\n",
      "hi number 4 from the spawned thread\n",
      "hi number 5 from the spawned thread\n",
      "hi number 6 from the spawned thread\n",
      "hi number 7 from the spawned thread\n",
      "hi number 8 from the spawned thread\n",
      "hi number 9 from the spawned thread\n"
     ]
    },
    {
     "data": {
      "text/plain": [
       "()"
      ]
     },
     "execution_count": 16,
     "metadata": {},
     "output_type": "execute_result"
    }
   ],
   "source": [
    "fn main(){\n",
    "    // 子线程\n",
    "    let handle=thread::spawn(||{\n",
    "        for j in 1..10{\n",
    "            println!(\"hi number {j} from the spawned thread\");\n",
    "            thread::sleep(Duration::from_millis(1));\n",
    "        }\n",
    "    });\n",
    "    for i in 1..5{\n",
    "        println!(\"hi number {i} from the main.rs thread\");\n",
    "        thread::sleep(Duration::from_millis(1));\n",
    "    };\n",
    "    handle.join().unwrap();\n",
    "}\n",
    "main()"
   ]
  },
  {
   "cell_type": "markdown",
   "id": "44d37016-b11d-41d2-9a45-5fb81ac4c296",
   "metadata": {},
   "source": [
    "## 在线程中使用move闭包"
   ]
  },
  {
   "cell_type": "code",
   "execution_count": 31,
   "id": "9c5f0786-92ac-4bfd-a82e-e3e07982de17",
   "metadata": {},
   "outputs": [
    {
     "name": "stdout",
     "output_type": "stream",
     "text": [
      "vector :[1, 2, 3]\n"
     ]
    },
    {
     "data": {
      "text/plain": [
       "()"
      ]
     },
     "execution_count": 31,
     "metadata": {},
     "output_type": "execute_result"
    }
   ],
   "source": [
    "fn main(){\n",
    "    let v=vec![1,2,3];\n",
    "    let handle=thread::spawn(move ||{\n",
    "        println!(\"vector :{v:?}\");\n",
    "    });\n",
    "    handle.join().unwrap()\n",
    "}\n",
    "main()"
   ]
  },
  {
   "cell_type": "markdown",
   "id": "1ca5721c-cb26-4946-9024-93bbeea450f4",
   "metadata": {},
   "source": [
    "## 测试"
   ]
  },
  {
   "cell_type": "code",
   "execution_count": 34,
   "id": "d978e3b4-ec07-4fda-8fbd-1610f1958c51",
   "metadata": {},
   "outputs": [
    {
     "name": "stdout",
     "output_type": "stream",
     "text": [
      "2\n"
     ]
    },
    {
     "data": {
      "text/plain": [
       "()"
      ]
     },
     "execution_count": 34,
     "metadata": {},
     "output_type": "execute_result"
    }
   ],
   "source": [
    "fn test_1(){\n",
    "    let mut n=1;\n",
    "    let t=thread::spawn(move||{\n",
    "        n=n+1;\n",
    "        thread::spawn(move||{\n",
    "            n=n+1\n",
    "        })\n",
    "    });\n",
    "    n=n+1;\n",
    "    t.join().unwrap().join().unwrap();\n",
    "    println!(\"{n}\");\n",
    "}\n",
    "test_1()"
   ]
  },
  {
   "cell_type": "markdown",
   "id": "de995a20-83c8-4a03-ad2d-9d4581ac8868",
   "metadata": {},
   "source": [
    "结果是2 因为move 拿走了n所有权，子线程里面的n和主线程是两个n"
   ]
  },
  {
   "cell_type": "code",
   "execution_count": null,
   "id": "0965127c-8a6c-46ce-94a8-1f9faa9e586f",
   "metadata": {},
   "outputs": [],
   "source": []
  },
  {
   "cell_type": "code",
   "execution_count": null,
   "id": "69d56133-a42e-4162-8920-41d5e5edfc90",
   "metadata": {},
   "outputs": [],
   "source": []
  }
 ],
 "metadata": {
  "kernelspec": {
   "display_name": "Rust",
   "language": "rust",
   "name": "rust"
  },
  "language_info": {
   "codemirror_mode": "rust",
   "file_extension": ".rs",
   "mimetype": "text/rust",
   "name": "Rust",
   "pygment_lexer": "rust",
   "version": ""
  }
 },
 "nbformat": 4,
 "nbformat_minor": 5
}
